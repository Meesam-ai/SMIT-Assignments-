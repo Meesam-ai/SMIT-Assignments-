{
 "cells": [
  {
   "cell_type": "markdown",
   "id": "33350197-c649-4aae-bae1-5c2618b0b149",
   "metadata": {},
   "source": [
    "### Saylani Mass IT \n",
    "### Name   : Muhammad Meesam\n",
    "### Course : AI and DS\n",
    "### Days   : Monday and Friday\n",
    "### ID     : AI - 333227"
   ]
  },
  {
   "cell_type": "markdown",
   "id": "d0af2342-80be-4393-80bf-b64b8c23be49",
   "metadata": {},
   "source": [
    "#1. Write a Python function to find the maximum of three numbers."
   ]
  },
  {
   "cell_type": "code",
   "execution_count": 36,
   "id": "72bf02b4-e7fe-4f51-94fa-b02c2f9460d7",
   "metadata": {},
   "outputs": [
    {
     "name": "stdout",
     "output_type": "stream",
     "text": [
      "The maximum is: 15\n"
     ]
    }
   ],
   "source": [
    "def find_maximum(a, b, c):\n",
    "   \n",
    "    if a >= b and a >= c:\n",
    "        return a\n",
    "    elif b >= a and b >= c:\n",
    "        return b\n",
    "    else:\n",
    "        return c\n",
    "num1 = 5\n",
    "num2 = 15\n",
    "num3 = 10\n",
    "print(\"The maximum is:\", find_maximum(num1, num2, num3))\n"
   ]
  },
  {
   "cell_type": "markdown",
   "id": "fd6b6825-c8d0-46fe-adb2-fe6109567234",
   "metadata": {},
   "source": [
    "#2. Write a Python function to sum all the numbers in a list.\n",
    "Sample List : (8, 2, 3, 0, 7)\n",
    "Expected Output : 20"
   ]
  },
  {
   "cell_type": "code",
   "execution_count": 34,
   "id": "61f74650-3cf8-4331-9d92-9d536081ebec",
   "metadata": {},
   "outputs": [
    {
     "name": "stdout",
     "output_type": "stream",
     "text": [
      "The sum of the list is: 20\n"
     ]
    }
   ],
   "source": [
    "def sum_of_list(numbers):\n",
    "    return sum(numbers)\n",
    "sample_list = [8, 2, 3, 0, 7]\n",
    "print(\"The sum of the list is:\", sum_of_list(sample_list))\n"
   ]
  },
  {
   "cell_type": "markdown",
   "id": "63d96e4f-7730-46b6-ba13-42516b48092b",
   "metadata": {},
   "source": [
    "#3. Write a Python function to multiply all the numbers in a list.\n",
    "Sample List : (8, 2, 3, -1, 7)\n",
    "Expected Output : -336"
   ]
  },
  {
   "cell_type": "code",
   "execution_count": 39,
   "id": "b13dd573-2fbb-4e16-ade4-f9763ff7b4d8",
   "metadata": {},
   "outputs": [
    {
     "name": "stdout",
     "output_type": "stream",
     "text": [
      "The product of the list is: -336\n"
     ]
    }
   ],
   "source": [
    "def multiply_list(numbers):\n",
    "   \n",
    "    product = 1\n",
    "    for num in numbers:\n",
    "        product *= num\n",
    "    return product\n",
    "sample_list = [8, 2, 3, -1, 7]\n",
    "print(\"The product of the list is:\", multiply_list(sample_list))\n"
   ]
  },
  {
   "cell_type": "markdown",
   "id": "703441a9-1961-44e6-badd-97c0eaa27310",
   "metadata": {},
   "source": [
    "#4. Write a Python program to reverse a string.\n",
    "Sample String : \"1234abcd\"\n",
    "Expected Output : \"dcba4321\""
   ]
  },
  {
   "cell_type": "code",
   "execution_count": 41,
   "id": "d2ee351c-1319-40e2-b03b-b4b0375b89d2",
   "metadata": {},
   "outputs": [
    {
     "name": "stdout",
     "output_type": "stream",
     "text": [
      "Reversed string is: dcba4321\n"
     ]
    }
   ],
   "source": [
    "def reverse_string(s):\n",
    "   \n",
    "    return s[::-1]\n",
    "\n",
    "sample_string = \"1234abcd\"\n",
    "print(\"Reversed string is:\", reverse_string(sample_string))\n"
   ]
  },
  {
   "cell_type": "markdown",
   "id": "4ac640dc-81ac-4f9c-8b48-76c527868a92",
   "metadata": {},
   "source": [
    "#5. Write a Python function to calculate the factorial of a number (a non-negative\n",
    "integer). The function accepts the number as an argument."
   ]
  },
  {
   "cell_type": "code",
   "execution_count": 43,
   "id": "8a28bc04-9971-4f97-9318-6cd448b2eef4",
   "metadata": {},
   "outputs": [
    {
     "name": "stdout",
     "output_type": "stream",
     "text": [
      "The factorial of 5 is: 120\n"
     ]
    }
   ],
   "source": [
    "def factorial(n):\n",
    "    \n",
    "    if n < 0:\n",
    "        raise ValueError(\"Factorial is not defined for negative numbers.\")\n",
    "    if n == 0 or n == 1:\n",
    "        return 1\n",
    "    result = 1\n",
    "    for i in range(2, n + 1):\n",
    "        result *= i\n",
    "    return result\n",
    "\n",
    "num = 5\n",
    "print(f\"The factorial of {num} is:\", factorial(num))\n"
   ]
  },
  {
   "cell_type": "markdown",
   "id": "f2ecd7ca-178f-411f-81bf-4967a2e1a9ce",
   "metadata": {},
   "source": [
    "#6. Write a Python function to check whether a number falls within a given range."
   ]
  },
  {
   "cell_type": "code",
   "execution_count": 45,
   "id": "04be7058-3d1a-451d-b3a8-ecb063919a1c",
   "metadata": {},
   "outputs": [
    {
     "name": "stdout",
     "output_type": "stream",
     "text": [
      "7 is within the range [5, 10].\n"
     ]
    }
   ],
   "source": [
    "def is_in_range(number, start, end):\n",
    "    \n",
    "    return start <= number <= end\n",
    "\n",
    "num = 7\n",
    "range_start = 5\n",
    "range_end = 10\n",
    "\n",
    "if is_in_range(num, range_start, range_end):\n",
    "    print(f\"{num} is within the range [{range_start}, {range_end}].\")\n",
    "else:\n",
    "    print(f\"{num} is not within the range [{range_start}, {range_end}].\")\n"
   ]
  },
  {
   "cell_type": "markdown",
   "id": "2115b85b-8b7a-42d4-af5f-5b2cf53e3f18",
   "metadata": {},
   "source": [
    "#7. Write a Python function that accepts a string and counts the number of upper\n",
    "and lower case letters.\n",
    "Sample String : 'The quick Brow Fox'\n",
    "Expected Output :\n",
    "No. of Upper case characters : 3\n",
    "No. of Lower case Characters : 12"
   ]
  },
  {
   "cell_type": "code",
   "execution_count": 47,
   "id": "b2ddc60f-4fe5-458f-8f31-e8626553943e",
   "metadata": {},
   "outputs": [
    {
     "name": "stdout",
     "output_type": "stream",
     "text": [
      "No. of Upper case characters : 3\n",
      "No. of Lower case Characters : 12\n"
     ]
    }
   ],
   "source": [
    "def count_case(s):\n",
    "    \n",
    "    upper_count = 0\n",
    "    lower_count = 0\n",
    "    \n",
    "    for char in s:\n",
    "        if char.isupper():\n",
    "            upper_count += 1\n",
    "        elif char.islower():\n",
    "            lower_count += 1\n",
    "    \n",
    "    return {\"upper\": upper_count, \"lower\": lower_count}\n",
    "\n",
    "sample_string = 'The quick Brow Fox'\n",
    "case_counts = count_case(sample_string)\n",
    "print(\"No. of Upper case characters :\", case_counts[\"upper\"])\n",
    "print(\"No. of Lower case Characters :\", case_counts[\"lower\"])\n"
   ]
  },
  {
   "cell_type": "markdown",
   "id": "fc2de504-086e-4992-9a9b-8bfc67e0d6b7",
   "metadata": {},
   "source": [
    "#8. Write a Python function that takes a list and returns a new list with distinct\n",
    "elements from the first list.\n",
    "Sample List : [1,2,3,3,3,3,4,5]\n",
    "Unique List : [1, 2, 3, 4, 5]"
   ]
  },
  {
   "cell_type": "code",
   "execution_count": 49,
   "id": "5bd2cb2f-4b32-4692-9952-3278783f34f7",
   "metadata": {},
   "outputs": [
    {
     "name": "stdout",
     "output_type": "stream",
     "text": [
      "Unique List: [1, 2, 3, 4, 5]\n"
     ]
    }
   ],
   "source": [
    "def distinct_elements(input_list):\n",
    "    \n",
    "    return list(set(input_list))\n",
    "\n",
    "sample_list = [1, 2, 3, 3, 3, 3, 4, 5]\n",
    "unique_list = distinct_elements(sample_list)\n",
    "print(\"Unique List:\", unique_list)\n"
   ]
  },
  {
   "cell_type": "markdown",
   "id": "9be98439-09f3-4b42-befe-6d723083362a",
   "metadata": {},
   "source": [
    "#9. Write a Python function that takes a number as a parameter and checks\n",
    "whether the number is prime or not.\n",
    "Note : A prime number (or a prime) is a natural number greater than 1 and that\n",
    "has no positive divisors other than 1 and itself."
   ]
  },
  {
   "cell_type": "code",
   "execution_count": 57,
   "id": "3f816373-5190-4311-890e-9a321e6a0bdc",
   "metadata": {},
   "outputs": [
    {
     "name": "stdout",
     "output_type": "stream",
     "text": [
      "29 is a prime number.\n"
     ]
    }
   ],
   "source": [
    "def is_prime(n):\n",
    "   \n",
    "    if n <= 1:\n",
    "        return False  \n",
    "    \n",
    "    \n",
    "    for i in range(2, int(n ** 0.5) + 1):\n",
    "        if n % i == 0:\n",
    "            return False  \n",
    "    \n",
    "    return True \n",
    "num = 29\n",
    "if is_prime(num):\n",
    "    print(f\"{num} is a prime number.\")\n",
    "else:\n",
    "    print(f\"{num} is not a prime number.\")\n"
   ]
  },
  {
   "cell_type": "markdown",
   "id": "65c5a17e-1f28-4b53-ae55-3e6ce83406d6",
   "metadata": {},
   "source": [
    "#10. Write a Python program to print the even numbers from a given list.\n",
    "Sample List : [1, 2, 3, 4, 5, 6, 7, 8, 9]\n",
    "Expected Result : [2, 4, 6, 8]"
   ]
  },
  {
   "cell_type": "code",
   "execution_count": 59,
   "id": "a1f85736-939b-4d4e-8100-f31e06eb8d99",
   "metadata": {},
   "outputs": [
    {
     "name": "stdout",
     "output_type": "stream",
     "text": [
      "Even numbers: [2, 4, 6, 8]\n"
     ]
    }
   ],
   "source": [
    "def get_even_numbers(input_list):\n",
    "    \n",
    "    return [num for num in input_list if num % 2 == 0]\n",
    "\n",
    "sample_list = [1, 2, 3, 4, 5, 6, 7, 8, 9]\n",
    "even_numbers = get_even_numbers(sample_list)\n",
    "print(\"Even numbers:\", even_numbers)\n"
   ]
  },
  {
   "cell_type": "markdown",
   "id": "ee9b90c3-92d0-4219-b5cc-70108c0e4551",
   "metadata": {},
   "source": [
    "#11. Write a Python function to check whether a number is \"Perfect\" or not.\n",
    "According to Wikipedia : In number theory, a perfect number is a positive integer\n",
    "that is equal to the sum of its proper positive divisors, that is, the sum of its\n",
    "positive divisors excluding the number itself (also known as its aliquot sum).\n",
    "Equivalently, a perfect number is a number that is half the sum of all of its\n",
    "positive divisors (including itself).\n",
    "Example : The first perfect number is 6, because 1, 2, and 3 are its proper positive\n",
    "divisors, and 1 + 2 + 3 = 6. Equivalently, the number 6 is equal to half the sum of\n",
    "all its positive divisors: ( 1 + 2 + 3 + 6 ) / 2 = 6. The next perfect number is 28 = 1 +\n",
    "2 + 4 + 7 + 14. This is followed by the perfect numbers 496 and 8128."
   ]
  },
  {
   "cell_type": "code",
   "execution_count": 63,
   "id": "b3e1df37-9b28-4b50-8cae-d016242c2743",
   "metadata": {},
   "outputs": [
    {
     "name": "stdout",
     "output_type": "stream",
     "text": [
      "28 is a perfect number.\n"
     ]
    }
   ],
   "source": [
    "def is_perfect_number(n):\n",
    "   \n",
    "    if n <= 1:\n",
    "        return False \n",
    "    \n",
    "    divisors = [i for i in range(1, n) if n % i == 0]\n",
    "    \n",
    "    if sum(divisors) == n:\n",
    "        return True\n",
    "    else:\n",
    "        return False\n",
    "\n",
    "num = 28\n",
    "if is_perfect_number(num):\n",
    "    print(f\"{num} is a perfect number.\")\n",
    "else:\n",
    "    print(f\"{num} is not a perfect number.\")\n"
   ]
  },
  {
   "cell_type": "markdown",
   "id": "a19607a2-8370-4b77-ba4e-1d4ef47c14d9",
   "metadata": {},
   "source": [
    "#12. Write a Python function that checks whether a passed string is a palindrome\n",
    "or not.\n",
    "Note: A palindrome is a word, phrase, or sequence that reads the same backward\n",
    "as forward, e.g., madam or nurses run."
   ]
  },
  {
   "cell_type": "code",
   "execution_count": 69,
   "id": "4178e2b7-7460-4eab-bb7d-8d1e04634a80",
   "metadata": {},
   "outputs": [
    {
     "name": "stdout",
     "output_type": "stream",
     "text": [
      "'nurses run' is a palindrome.\n"
     ]
    }
   ],
   "source": [
    "def is_palindrome(s):\n",
    "   \n",
    "   \n",
    "    cleaned_string = ''.join(s.split()).lower()\n",
    "    \n",
    "    return cleaned_string == cleaned_string[::-1]\n",
    "\n",
    "input_string = \"nurses run\"\n",
    "if is_palindrome(input_string):\n",
    "    print(f\"'{input_string}' is a palindrome.\")\n",
    "else:\n",
    "    print(f\"'{input_string}' is not a palindrome.\")\n"
   ]
  }
 ],
 "metadata": {
  "kernelspec": {
   "display_name": "Python 3 (ipykernel)",
   "language": "python",
   "name": "python3"
  },
  "language_info": {
   "codemirror_mode": {
    "name": "ipython",
    "version": 3
   },
   "file_extension": ".py",
   "mimetype": "text/x-python",
   "name": "python",
   "nbconvert_exporter": "python",
   "pygments_lexer": "ipython3",
   "version": "3.12.7"
  }
 },
 "nbformat": 4,
 "nbformat_minor": 5
}
