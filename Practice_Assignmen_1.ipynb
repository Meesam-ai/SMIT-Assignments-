{
 "cells": [
  {
   "cell_type": "markdown",
   "metadata": {
    "id": "CUdxU51J52Jc"
   },
   "source": [
    "### Saylani Mass IT \n",
    "### Name   : Muhammad Meesam\n",
    "### Course : AI and DS\n",
    "### Days   : Monday and Friday\n",
    "### ID     : AI - 333227"
   ]
  },
  {
   "cell_type": "markdown",
   "metadata": {},
   "source": [
    "# Topic: print()"
   ]
  },
  {
   "cell_type": "markdown",
   "metadata": {
    "id": "O4XtVMeN52Ji"
   },
   "source": [
    "1) Using the python print function print any string value, integer value, boolean value, float value in single print command"
   ]
  },
  {
   "cell_type": "code",
   "execution_count": 1,
   "metadata": {},
   "outputs": [
    {
     "name": "stdout",
     "output_type": "stream",
     "text": [
      "string 67 67.9 True\n"
     ]
    }
   ],
   "source": [
    "print(\"string\",67,67.9,True)"
   ]
  },
  {
   "cell_type": "markdown",
   "metadata": {
    "id": "iNinlTd052Jr"
   },
   "source": [
    "2) Using the python print function print hyphon(-) separated any string value, integer value, boolean value, float value in single print command"
   ]
  },
  {
   "cell_type": "code",
   "execution_count": 3,
   "metadata": {},
   "outputs": [
    {
     "name": "stdout",
     "output_type": "stream",
     "text": [
      "string-67-67.9-True\n"
     ]
    }
   ],
   "source": [
    "print(\"string\",67,67.9,True,sep='-')"
   ]
  },
  {
   "cell_type": "markdown",
   "metadata": {
    "id": "4fNVS99O52Jt"
   },
   "source": [
    "3) Using the python print function print any string value, integer value, boolean value, float value in separate print command.\n",
    "But every value must be space separated and in single line"
   ]
  },
  {
   "cell_type": "code",
   "execution_count": 15,
   "metadata": {},
   "outputs": [
    {
     "name": "stdout",
     "output_type": "stream",
     "text": [
      "string 67 67.9 True\n"
     ]
    }
   ],
   "source": [
    "print(\"string\",end=' ')\n",
    "print(67,end=' ')\n",
    "print(67.9,end=' ')\n",
    "print(True)\n"
   ]
  },
  {
   "cell_type": "markdown",
   "metadata": {
    "id": "akEUFstT52Jv"
   },
   "source": [
    "4) Can a python print function take no value to print???\n"
   ]
  },
  {
   "cell_type": "markdown",
   "metadata": {},
   "source": [
    "True "
   ]
  },
  {
   "cell_type": "markdown",
   "metadata": {
    "id": "vFPOFKW_52Jx"
   },
   "source": [
    "# TOPIC :Variables in Python Operators"
   ]
  },
  {
   "cell_type": "markdown",
   "metadata": {
    "id": "AzBzVODl52Jy"
   },
   "source": [
    "5) `One of my friends name is Mr. Ahmed. He is 30 years old.  He is a lawer by profession. He has done his bachelors in law in the year 2005. He is working with a reputable law firm 'The Himalya Associates' in Karachi since 2015.\n",
    "He is a handsome lawer with height of 5.10 feets and weight 70600g. His monthly income is Rs. 200k PKR.\n",
    "\n",
    "Note: Create variables from above text and also assign values from the text.  "
   ]
  },
  {
   "cell_type": "code",
   "execution_count": 54,
   "metadata": {},
   "outputs": [
    {
     "name": "stdout",
     "output_type": "stream",
     "text": [
      "One of my friends name is Ahmed He is 30 years old He is a Lawyer by profession He has done his bachelors in law  in the year 2005 He is working with a reputable law firm The Himalya Associates in Karachi since 2015 He is a Handsome lawer with height of 5.1 feets and weight 70600g His monthly income is 200kPKR\n"
     ]
    }
   ],
   "source": [
    "name=\"Ahmed\"\n",
    "age=30\n",
    "profession=\"Lawyer\"\n",
    "graduate=\"bachelors in law \" \n",
    "graduation_year=2005\n",
    "working_place='The Himalya Associates' \n",
    "city= 'Karachi'\n",
    "working_since=2015\n",
    "beauty=\"Handsome\"\n",
    "height=5.10\n",
    "weight=\"70600g\"\n",
    "monthly_income=\"200kPKR\"\n",
    "print(f\"One of my friends name is {name} He is {age} years old He is a {profession} by profession He has done his {graduate} in the year {graduation_year} He is working with a reputable law firm {working_place} in {city} since {2015} He is a {beauty} lawer with height of {height} feets and weight {weight} His monthly income is {monthly_income}\")\n",
    "\n",
    "\n",
    "\n",
    "\n",
    "\n"
   ]
  },
  {
   "cell_type": "markdown",
   "metadata": {
    "id": "Uaf--v5S52J0"
   },
   "source": [
    "6)How many years has been to Mr. Ahmed after his bachelors degree? Create a variable that hold current year value and then subtract it from his passout year"
   ]
  },
  {
   "cell_type": "code",
   "execution_count": 50,
   "metadata": {},
   "outputs": [
    {
     "name": "stdout",
     "output_type": "stream",
     "text": [
      "19 years done of Mr Ahmed bachelors degree\n"
     ]
    }
   ],
   "source": [
    "graduation_year=2005\n",
    "current=2024\n",
    "print(f\"{current-graduation_year} years done of Mr Ahmed bachelors degree\")"
   ]
  },
  {
   "cell_type": "markdown",
   "metadata": {
    "id": "SAQtVyvD52J1"
   },
   "source": [
    "7) How many years has Mr. Ahmed been working with law firm 'The Himalya Associates'. Create necesary variables and print the correct number of years in working in the firm"
   ]
  },
  {
   "cell_type": "code",
   "execution_count": 38,
   "metadata": {},
   "outputs": [
    {
     "name": "stdout",
     "output_type": "stream",
     "text": [
      "9 years done of Mr Ahmeds working with law firm 'The Himalya Associates'\n"
     ]
    }
   ],
   "source": [
    "working_since=2015\n",
    "current=2024\n",
    "print(f\"{current-working_since} years done of Mr Ahmeds working with law firm 'The Himalya Associates'\")"
   ]
  },
  {
   "cell_type": "markdown",
   "metadata": {
    "id": "Gnk1kIUj52J3"
   },
   "source": [
    "8)Convert the monthly income of Mr. Ahmed in dollars.  Create necesary variables and print the income in dollars."
   ]
  },
  {
   "cell_type": "code",
   "execution_count": 46,
   "metadata": {},
   "outputs": [
    {
     "name": "stdout",
     "output_type": "stream",
     "text": [
      "Mr Ahmed income in dollars is 718.52 $\n"
     ]
    }
   ],
   "source": [
    "monthly_income=200000\n",
    "current=278.35\n",
    "print(f\"Mr Ahmed income in dollars is {round(monthly_income/dollar,2)} $\")"
   ]
  },
  {
   "cell_type": "markdown",
   "metadata": {
    "id": "Adx4oblF52J4"
   },
   "source": [
    "9) Check if the income in dollars is a float or integer value. if it is float, re-write the code so that income gets converted in integer. print the income in integer type value"
   ]
  },
  {
   "cell_type": "code",
   "execution_count": 30,
   "metadata": {},
   "outputs": [
    {
     "name": "stdout",
     "output_type": "stream",
     "text": [
      "Mr Ahmed income in dollars is 718 $ as integer value\n"
     ]
    }
   ],
   "source": [
    "monthly_income=200000\n",
    "dollar=278.35\n",
    "income=monthly_income / dollar\n",
    "if type(income)==float:\n",
    "    d=int(income)\n",
    "    print(f\"Mr Ahmed income in dollars is {d} $ as integer value\")"
   ]
  },
  {
   "cell_type": "raw",
   "metadata": {
    "id": "NcYepWgZ52J5"
   },
   "source": [
    "10) Print the type of Mr. Ahmed's weight. Convert the weight of Mr. Ahmed in kg so that weight must be a integer value."
   ]
  },
  {
   "cell_type": "code",
   "execution_count": 28,
   "metadata": {
    "id": "05FU1XHw52J7"
   },
   "outputs": [
    {
     "name": "stdout",
     "output_type": "stream",
     "text": [
      "weight of mr ahmed is 70 kg\n"
     ]
    }
   ],
   "source": [
    "weight = 70600\n",
    "kg=weight//1000\n",
    "print(f\"weight of mr ahmed is {kg} kg\")"
   ]
  },
  {
   "cell_type": "code",
   "execution_count": 24,
   "metadata": {
    "id": "paq_3Kg152J8"
   },
   "outputs": [
    {
     "name": "stdout",
     "output_type": "stream",
     "text": [
      "birth year is 1994\n"
     ]
    }
   ],
   "source": [
    "age=30\n",
    "current=2024\n",
    "print(f\"birth year is {current-age}\")\n"
   ]
  },
  {
   "cell_type": "markdown",
   "metadata": {
    "id": "eWySSgh552J8"
   },
   "source": [
    "12) Can Rs. 100 be divided equally among 6 students?\n",
    "HINT: % operator (modulo)"
   ]
  },
  {
   "cell_type": "code",
   "execution_count": 22,
   "metadata": {
    "id": "RYc0Ks7g52J-",
    "outputId": "0e2425ca-fbed-4c24-b659-e52ef2d0674e"
   },
   "outputs": [
    {
     "name": "stdout",
     "output_type": "stream",
     "text": [
      "equally not divisible\n"
     ]
    }
   ],
   "source": [
    "10%2\n",
    "amount=100\n",
    "students=6\n",
    "if amount%students==0:\n",
    "    print('equally divisible')\n",
    "else:\n",
    "     print('equally not divisible')\n",
    "# 10 is completely divisible by2\n",
    "# 10 is multiple of 2\n",
    "# 2 is a factor of 10\n",
    "# 10 comes in table of 2"
   ]
  },
  {
   "cell_type": "code",
   "execution_count": null,
   "metadata": {},
   "outputs": [],
   "source": []
  },
  {
   "cell_type": "code",
   "execution_count": null,
   "metadata": {
    "id": "X3ncSwJt52KA"
   },
   "outputs": [],
   "source": []
  }
 ],
 "metadata": {
  "colab": {
   "provenance": []
  },
  "kernelspec": {
   "display_name": "Python 3 (ipykernel)",
   "language": "python",
   "name": "python3"
  },
  "language_info": {
   "codemirror_mode": {
    "name": "ipython",
    "version": 3
   },
   "file_extension": ".py",
   "mimetype": "text/x-python",
   "name": "python",
   "nbconvert_exporter": "python",
   "pygments_lexer": "ipython3",
   "version": "3.12.7"
  }
 },
 "nbformat": 4,
 "nbformat_minor": 4
}
