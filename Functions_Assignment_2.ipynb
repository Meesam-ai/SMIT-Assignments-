{
 "cells": [
  {
   "cell_type": "markdown",
   "id": "420a2b4a-37c7-4c41-904a-27b8672cd59d",
   "metadata": {},
   "source": [
    "### Saylani Mass IT \n",
    "### Name   : Muhammad Meesam\n",
    "### Course : AI and DS\n",
    "### Days   : Monday and Friday\n",
    "### ID     : AI - 333227"
   ]
  },
  {
   "cell_type": "markdown",
   "id": "78dbd4e6-b796-4f56-b260-1fc2d0296012",
   "metadata": {},
   "source": [
    "#Task1:\n",
    "You need to write a function in python that return all such numbers which are\n",
    "divisible by 7 but are not a multiple of 5, between 2000 and 3200 (both included).\n",
    "Return the obtained numbers in a comma-separated sequence on a single line."
   ]
  },
  {
   "cell_type": "code",
   "execution_count": 10,
   "id": "da406c0c-55fd-4476-9e91-2e718c3d6c70",
   "metadata": {},
   "outputs": [
    {
     "name": "stdout",
     "output_type": "stream",
     "text": [
      "2002, 2009, 2016, 2023, 2037, 2044, 2051, 2058, 2072, 2079, 2086, 2093, 2107, 2114, 2121, 2128, 2142, 2149, 2156, 2163, 2177, 2184, 2191, 2198, 2212, 2219, 2226, 2233, 2247, 2254, 2261, 2268, 2282, 2289, 2296, 2303, 2317, 2324, 2331, 2338, 2352, 2359, 2366, 2373, 2387, 2394, 2401, 2408, 2422, 2429, 2436, 2443, 2457, 2464, 2471, 2478, 2492, 2499, 2506, 2513, 2527, 2534, 2541, 2548, 2562, 2569, 2576, 2583, 2597, 2604, 2611, 2618, 2632, 2639, 2646, 2653, 2667, 2674, 2681, 2688, 2702, 2709, 2716, 2723, 2737, 2744, 2751, 2758, 2772, 2779, 2786, 2793, 2807, 2814, 2821, 2828, 2842, 2849, 2856, 2863, 2877, 2884, 2891, 2898, 2912, 2919, 2926, 2933, 2947, 2954, 2961, 2968, 2982, 2989, 2996, 3003, 3017, 3024, 3031, 3038, 3052, 3059, 3066, 3073, 3087, 3094, 3101, 3108, 3122, 3129, 3136, 3143, 3157, 3164, 3171, 3178, 3192, 3199\n"
     ]
    }
   ],
   "source": [
    "def numbers_divisible_by_7_not_5():\n",
    "   \n",
    "    result = []\n",
    "    for num in range(2000, 3201):\n",
    "        if num % 7 == 0 and num % 5 != 0:\n",
    "            result.append(str(num))  \n",
    "    return ', '.join(result)\n",
    "print(numbers_divisible_by_7_not_5())\n"
   ]
  },
  {
   "cell_type": "markdown",
   "id": "4acb63b6-0a2c-493a-9f19-0d2494fe4e2e",
   "metadata": {},
   "source": [
    "#Task2:\n",
    "You need code a function that calculates and returns the value according to the\n",
    "given formula:\n",
    "P = Square root of [(2 * A * B)/C]\n",
    "Following are the fixed values of A and B:\n",
    "A is 50. B is 30.\n",
    "The values of the literal C should be taken as console input to your program in a\n",
    "comma-separated sequence.\n",
    "Example\n",
    "Let us assume the following comma separated input sequence is given to the\n",
    "program:\n",
    "100,150,180\n",
    "The output of the program should be:\n",
    "18,22,24"
   ]
  },
  {
   "cell_type": "code",
   "execution_count": 58,
   "id": "162439bf-5310-40e5-9c7f-a50425cbc231",
   "metadata": {},
   "outputs": [
    {
     "name": "stdin",
     "output_type": "stream",
     "text": [
      "Enter the values of C (comma-separated):  100,150,180\n"
     ]
    },
    {
     "name": "stdout",
     "output_type": "stream",
     "text": [
      "The calculated P values are: 5,4,4\n"
     ]
    }
   ],
   "source": [
    "def calculate_p(c_values):\n",
    "    \n",
    "    A = 50\n",
    "    B = 30\n",
    "    \n",
    "    c_list = [int(c) for c in c_values.split(',')]\n",
    "    \n",
    "    result = []\n",
    "    for C in c_list:\n",
    "        P = math.sqrt((2 * A * B) / C)\n",
    "        result.append(str(int(P)))  \n",
    "    \n",
    "    return ','.join(result)\n",
    "\n",
    "\n",
    "input_values = input(\"Enter the values of C (comma-separated): \")  \n",
    "output_values = calculate_p(input_values)\n",
    "print(\"The calculated P values are:\", output_values)\n"
   ]
  },
  {
   "cell_type": "markdown",
   "id": "050e9b85-e7e4-41bb-b46d-9606560cba2b",
   "metadata": {},
   "source": [
    "#Task3:\n",
    "You need to write a function that takes a comma separated sequence of words as\n",
    "input and prints the words in a comma-separated sequence after sorting them\n",
    "alphabetically.\n",
    "Suppose the following input is supplied to the program:\n",
    "without,hello,bag,world\n",
    "Then, the output should be:\n",
    "bag,hello,without,world"
   ]
  },
  {
   "cell_type": "code",
   "execution_count": 39,
   "id": "36ac9d04-1fd4-4b2c-a963-e1c6ea3c7ae4",
   "metadata": {},
   "outputs": [
    {
     "name": "stdin",
     "output_type": "stream",
     "text": [
      "Enter a comma-separated sequence of words:  without,hello,bag,world\n"
     ]
    },
    {
     "name": "stdout",
     "output_type": "stream",
     "text": [
      "bag,hello,without,world\n"
     ]
    }
   ],
   "source": [
    "def sort_words(input_str):\n",
    "    words = input_str.split(',')\n",
    "    \n",
    "    words.sort()\n",
    "    \n",
    "    sorted_str = ','.join(words)\n",
    "    \n",
    "    print(sorted_str)\n",
    "\n",
    "input_words = input(\"Enter a comma-separated sequence of words: \") \n",
    "sort_words(input_words)\n"
   ]
  },
  {
   "cell_type": "markdown",
   "id": "27a7827f-06e4-47b0-b98b-0f5f01670535",
   "metadata": {},
   "source": [
    "Task4:\n",
    "You need to write a program that takes sequence of lines as input and prints the\n",
    "lines after making all characters in the sentence capitalized.\n",
    "Suppose the following input is supplied to the program:\n",
    "Hello world\n",
    "Practice makes perfect\n",
    "Then, the output should be:\n",
    "\n",
    "HELLO WORLD\n",
    "PRACTICE MAKES PERFECT"
   ]
  },
  {
   "cell_type": "code",
   "execution_count": 41,
   "id": "5ff15afe-fa86-4cdc-8f7a-3384ca79efdc",
   "metadata": {},
   "outputs": [
    {
     "name": "stdout",
     "output_type": "stream",
     "text": [
      "Enter lines of text (press Enter on an empty line to finish):\n"
     ]
    },
    {
     "name": "stdin",
     "output_type": "stream",
     "text": [
      " Hello Practice makes perfect \n"
     ]
    },
    {
     "name": "stdout",
     "output_type": "stream",
     "text": [
      "HELLO PRACTICE MAKES PERFECT \n"
     ]
    },
    {
     "name": "stdin",
     "output_type": "stream",
     "text": [
      " Hey i am muhammad meesam\n"
     ]
    },
    {
     "name": "stdout",
     "output_type": "stream",
     "text": [
      "HEY I AM MUHAMMAD MEESAM\n"
     ]
    },
    {
     "name": "stdin",
     "output_type": "stream",
     "text": [
      " \n"
     ]
    }
   ],
   "source": [
    "def capitalize_lines():\n",
    "    while True:\n",
    "        try:\n",
    "            line = input()  \n",
    "            if line == '':  \n",
    "                break\n",
    "            print(line.upper())  \n",
    "        except EOFError:\n",
    "            break\n",
    "\n",
    "print(\"Enter lines of text (press Enter on an empty line to finish):\")\n",
    "capitalize_lines()\n"
   ]
  },
  {
   "cell_type": "markdown",
   "id": "7646d279-040c-4ab2-b055-affc88bcd1e7",
   "metadata": {},
   "source": [
    "#Task5:\n",
    "You need to write a function that counts the number of vowels in a given\n",
    "sentence as input from console.\n",
    "Suppose the following input is supplied to the program:\n",
    "Hello world\n",
    "Practice makes perfect\n",
    "Then, the output should be:\n",
    "a appeared 2 times\n",
    "e appeared 5 times\n",
    "i appeared 1 time\n",
    "o appeared 2 times\n",
    "u appeared 0 time\n",
    "PRACTICE MAKES PERFECT"
   ]
  },
  {
   "cell_type": "code",
   "execution_count": 45,
   "id": "1ce388d9-8de4-422e-92bd-b988f2f6ec86",
   "metadata": {},
   "outputs": [
    {
     "name": "stdin",
     "output_type": "stream",
     "text": [
      "Enter a sentence:  Hello world practice makes perfect\n"
     ]
    },
    {
     "name": "stdout",
     "output_type": "stream",
     "text": [
      "a appeared 2 times\n",
      "e appeared 5 times\n",
      "i appeared 1 time\n",
      "o appeared 2 times\n",
      "u appeared 0 times\n"
     ]
    }
   ],
   "source": [
    "def count_vowels(sentence):\n",
    "    \n",
    "    vowels = \"aeiouAEIOU\"\n",
    "    \n",
    "    \n",
    "    vowel_count = {\"a\": 0, \"e\": 0, \"i\": 0, \"o\": 0, \"u\": 0}\n",
    "    \n",
    "    \n",
    "    for char in sentence:\n",
    "        if char in vowels:\n",
    "            vowel_count[char.lower()] += 1  \n",
    "    \n",
    "   \n",
    "    for vowel in vowel_count:\n",
    "        \n",
    "        if vowel_count[vowel] == 1:\n",
    "            print(f\"{vowel} appeared {vowel_count[vowel]} time\")\n",
    "        else:\n",
    "            print(f\"{vowel} appeared {vowel_count[vowel]} times\")\n",
    "\n",
    "input_sentence = input(\"Enter a sentence: \")  \n",
    "count_vowels(input_sentence)\n",
    "\n"
   ]
  },
  {
   "cell_type": "markdown",
   "id": "58fbef56-7368-4a10-8763-656216e791b5",
   "metadata": {},
   "source": [
    "#Task6:\n",
    "You need write a function that traces and makes a list of all such numbers\n",
    "from1000 to 3000 in which all the digits are even numbers."
   ]
  },
  {
   "cell_type": "code",
   "execution_count": 47,
   "id": "01d3ce40-0518-422d-84dd-a4b4bd6cb87f",
   "metadata": {},
   "outputs": [
    {
     "name": "stdout",
     "output_type": "stream",
     "text": [
      "[2000, 2002, 2004, 2006, 2008, 2020, 2022, 2024, 2026, 2028, 2040, 2042, 2044, 2046, 2048, 2060, 2062, 2064, 2066, 2068, 2080, 2082, 2084, 2086, 2088, 2200, 2202, 2204, 2206, 2208, 2220, 2222, 2224, 2226, 2228, 2240, 2242, 2244, 2246, 2248, 2260, 2262, 2264, 2266, 2268, 2280, 2282, 2284, 2286, 2288, 2400, 2402, 2404, 2406, 2408, 2420, 2422, 2424, 2426, 2428, 2440, 2442, 2444, 2446, 2448, 2460, 2462, 2464, 2466, 2468, 2480, 2482, 2484, 2486, 2488, 2600, 2602, 2604, 2606, 2608, 2620, 2622, 2624, 2626, 2628, 2640, 2642, 2644, 2646, 2648, 2660, 2662, 2664, 2666, 2668, 2680, 2682, 2684, 2686, 2688, 2800, 2802, 2804, 2806, 2808, 2820, 2822, 2824, 2826, 2828, 2840, 2842, 2844, 2846, 2848, 2860, 2862, 2864, 2866, 2868, 2880, 2882, 2884, 2886, 2888]\n"
     ]
    }
   ],
   "source": [
    "def check_even_digits():\n",
    "    even_digit_numbers = []\n",
    "    \n",
    "    for number in range(1000, 3001):\n",
    "        number_str = str(number)\n",
    "        \n",
    "        if all(int(digit) % 2 == 0 for digit in number_str):\n",
    "            even_digit_numbers.append(number)\n",
    "    \n",
    "    return even_digit_numbers\n",
    "\n",
    "result = check_even_digits()\n",
    "print(result)\n"
   ]
  },
  {
   "cell_type": "markdown",
   "id": "6acebf56-6f24-42f5-9366-a45eca8b597a",
   "metadata": {},
   "source": [
    "#Task7:\n",
    "You need to write a code which accepts a sequence of comma separated 4 digit\n",
    "binary numbers as its input and then check whether they are divisible by 5 or not.\n",
    "The numbers that are divisible by 5 are to be printed in a comma separated\n",
    "sequence.\n",
    "Example:\n",
    "0100,0011,1010,1001\n",
    "Then the output should be:\n",
    "1010"
   ]
  },
  {
   "cell_type": "code",
   "execution_count": 49,
   "id": "ff62d9f2-c10c-47f5-8d8b-96cd45477b2a",
   "metadata": {},
   "outputs": [
    {
     "name": "stdin",
     "output_type": "stream",
     "text": [
      "Enter a sequence of 4-digit binary numbers (comma-separated):  0100,0011,1010,1001\n"
     ]
    },
    {
     "name": "stdout",
     "output_type": "stream",
     "text": [
      "1010\n"
     ]
    }
   ],
   "source": [
    "def check_divisible_by_5(binary_sequence):\n",
    "    binary_numbers = binary_sequence.split(',')\n",
    "    \n",
    "    divisible_by_5 = []\n",
    "    \n",
    "    for binary in binary_numbers:\n",
    "        decimal_value = int(binary, 2)\n",
    "        \n",
    "        if decimal_value % 5 == 0:\n",
    "            divisible_by_5.append(binary)\n",
    "    \n",
    "    print(','.join(divisible_by_5))\n",
    "\n",
    "input_binary = input(\"Enter a sequence of 4-digit binary numbers (comma-separated): \")  # e.g., \"0100,0011,1010,1001\"\n",
    "check_divisible_by_5(input_binary)\n"
   ]
  },
  {
   "cell_type": "markdown",
   "id": "fc1902be-3691-4fb8-84fb-ace4cbdec737",
   "metadata": {},
   "source": [
    "#Task8:\n",
    "Write a program that accepts a sentence and calculate the number of letters and\n",
    "digits.\n",
    "Suppose the following input is supplied to the program:\n",
    "hello world! 123\n",
    "Then, the output should be:\n",
    "LETTERS 10\n",
    "DIGITS 3"
   ]
  },
  {
   "cell_type": "code",
   "execution_count": 51,
   "id": "951c1d35-57df-4f24-84ff-54c0c88b793e",
   "metadata": {},
   "outputs": [
    {
     "name": "stdin",
     "output_type": "stream",
     "text": [
      "Enter a sentence:  hello world! 123\n"
     ]
    },
    {
     "name": "stdout",
     "output_type": "stream",
     "text": [
      "LETTERS 10\n",
      "DIGITS 3\n"
     ]
    }
   ],
   "source": [
    "def count_letters_and_digits(sentence):\n",
    "    letter_count = 0\n",
    "    digit_count = 0\n",
    "    \n",
    "    for char in sentence:\n",
    "        if char.isalpha():  \n",
    "            letter_count += 1\n",
    "        elif char.isdigit(): \n",
    "            digit_count += 1\n",
    "    \n",
    "    print(f\"LETTERS {letter_count}\")\n",
    "    print(f\"DIGITS {digit_count}\")\n",
    "\n",
    "input_sentence = input(\"Enter a sentence: \") \n",
    "count_letters_and_digits(input_sentence)\n"
   ]
  },
  {
   "cell_type": "code",
   "execution_count": null,
   "id": "9efacef7-c99c-41d3-82cb-9bdd4a461508",
   "metadata": {},
   "outputs": [],
   "source": []
  },
  {
   "cell_type": "code",
   "execution_count": null,
   "id": "eeb48daf-4a6d-4d00-a513-cbb517309509",
   "metadata": {},
   "outputs": [],
   "source": []
  },
  {
   "cell_type": "code",
   "execution_count": null,
   "id": "5945e1e5-559b-4009-82b9-37ce06697e95",
   "metadata": {},
   "outputs": [],
   "source": []
  },
  {
   "cell_type": "code",
   "execution_count": null,
   "id": "b921a913-e8e1-4de4-8cfc-ff1b2a890688",
   "metadata": {},
   "outputs": [],
   "source": []
  },
  {
   "cell_type": "code",
   "execution_count": null,
   "id": "4cd1a3df-8b8e-424e-9c84-7dedcf040e3d",
   "metadata": {},
   "outputs": [],
   "source": []
  },
  {
   "cell_type": "code",
   "execution_count": null,
   "id": "6da227bd-8f18-4ea6-bb18-e78142a62835",
   "metadata": {},
   "outputs": [],
   "source": []
  },
  {
   "cell_type": "code",
   "execution_count": null,
   "id": "8c322246-a93c-4d2d-aadd-109779982e8c",
   "metadata": {},
   "outputs": [],
   "source": []
  },
  {
   "cell_type": "code",
   "execution_count": null,
   "id": "7974ae05-2351-4bf2-a6ea-0e8063408f5c",
   "metadata": {},
   "outputs": [],
   "source": []
  },
  {
   "cell_type": "code",
   "execution_count": null,
   "id": "af76ab82-c89d-474a-b417-847dc4aeb64c",
   "metadata": {},
   "outputs": [],
   "source": []
  },
  {
   "cell_type": "code",
   "execution_count": null,
   "id": "ae633a4c-1422-4850-95ed-4cbd59714b36",
   "metadata": {},
   "outputs": [],
   "source": []
  },
  {
   "cell_type": "code",
   "execution_count": null,
   "id": "474cb24a-e274-4549-a31f-6182ef3e93ae",
   "metadata": {},
   "outputs": [],
   "source": []
  },
  {
   "cell_type": "code",
   "execution_count": null,
   "id": "bc0619a3-e532-4128-87e4-41bf9997d209",
   "metadata": {},
   "outputs": [],
   "source": []
  },
  {
   "cell_type": "code",
   "execution_count": null,
   "id": "df443e3a-b855-486e-bed5-9d553b882f7a",
   "metadata": {},
   "outputs": [],
   "source": []
  },
  {
   "cell_type": "code",
   "execution_count": null,
   "id": "5db1edac-aa1f-47fb-a849-7e990127745b",
   "metadata": {},
   "outputs": [],
   "source": []
  },
  {
   "cell_type": "code",
   "execution_count": null,
   "id": "077ec26f-3bb7-480d-98ce-500c97cd5d09",
   "metadata": {},
   "outputs": [],
   "source": []
  },
  {
   "cell_type": "code",
   "execution_count": null,
   "id": "772e21a8-fe5d-4407-bdbe-4a75a5779b7f",
   "metadata": {},
   "outputs": [],
   "source": []
  },
  {
   "cell_type": "code",
   "execution_count": null,
   "id": "76ae2ec2-4582-4c8a-83e5-2e4f05b51a79",
   "metadata": {},
   "outputs": [],
   "source": []
  }
 ],
 "metadata": {
  "kernelspec": {
   "display_name": "Python 3 (ipykernel)",
   "language": "python",
   "name": "python3"
  },
  "language_info": {
   "codemirror_mode": {
    "name": "ipython",
    "version": 3
   },
   "file_extension": ".py",
   "mimetype": "text/x-python",
   "name": "python",
   "nbconvert_exporter": "python",
   "pygments_lexer": "ipython3",
   "version": "3.12.7"
  }
 },
 "nbformat": 4,
 "nbformat_minor": 5
}
